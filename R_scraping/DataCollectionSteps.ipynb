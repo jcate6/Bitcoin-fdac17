{
 "cells": [
  {
   "cell_type": "markdown",
   "metadata": {},
   "source": [
    "# Data collection procedure\n",
    "\n",
    "### Step 1. Block information\n",
    "\n",
    "a. Get most recent Hash (BlockID) from here [https://blockchain.info/blocks](https://blockchain.info/blocks)\n",
    "- Example: [3140f440245d6db71e374eae1e73c595d1ee566590ed7e086aace8fda22434f4](3140f440245d6db71e374eae1e73c595d1ee566590ed7e086aace8fda22434f4)\n",
    "\n",
    "b. For that BlockID extract all the TransactionID\n",
    "- Example: [8088eeadbb0c6cbc6cc87ffacc05045f50195bd3837ec392a894465693578b57](8088eeadbb0c6cbc6cc87ffacc05045f50195bd3837ec392a894465693578b57)\n",
    "\n",
    "c. For each TransactionID follow the link to scripts & coin base\n",
    "- Example: [https://blockchain.info/tx/8088eeadbb0c6cbc6cc87ffacc05045f50195bd3837ec392a894465693578b57?show_adv=true](https://blockchain.info/tx/8088eeadbb0c6cbc6cc87ffacc05045f50195bd3837ec392a894465693578b57?show_adv=true)\n",
    "\n",
    "### Step 2. Transaction information\n",
    "\n",
    "For each TransactionID extract the following\n",
    "\n",
    "a. Vector of Input addresses\n",
    "- Example: [13znVNnEg8qmorjD8dktpdPomuymqKScZE](13znVNnEg8qmorjD8dktpdPomuymqKScZE)\n",
    "\n",
    "b. Vector of Input amount\n",
    "- Example: 0.39706\n",
    "\n",
    "c. Vector of output address\n",
    "- Example: [18NzmGzcY9HsWsQdr5PmmTTYoX1GuCqJu9](18NzmGzcY9HsWsQdr5PmmTTYoX1GuCqJu9)\n",
    "\n",
    "d. Vector of output amount\n",
    "- Example: 2.90466"
   ]
  },
  {
   "cell_type": "markdown",
   "metadata": {},
   "source": [
    "### Step 3. Create transactions list\n",
    "\n",
    "Store outputs from the above in a convenient list structure."
   ]
  },
  {
   "cell_type": "code",
   "execution_count": 466,
   "metadata": {
    "collapsed": true
   },
   "outputs": [],
   "source": [
    "# For now the list can can include all of the transactions in the most\n",
    "# recent block. Then we can add transactions from other blocks as needed.\n",
    "# For example, if there were two blocks, each with two transactions, we\n",
    "# would have something like this"
   ]
  },
  {
   "cell_type": "code",
   "execution_count": 467,
   "metadata": {},
   "outputs": [],
   "source": [
    "# Structure summary of the object\n",
    "# str(blocks, vec.len=1, nchar.max=20)"
   ]
  },
  {
   "cell_type": "markdown",
   "metadata": {
    "collapsed": true
   },
   "source": [
    "# Environment setup"
   ]
  },
  {
   "cell_type": "markdown",
   "metadata": {},
   "source": [
    "To download and install conda, open a terminal window and do the following"
   ]
  },
  {
   "cell_type": "code",
   "execution_count": 468,
   "metadata": {
    "collapsed": true
   },
   "outputs": [],
   "source": [
    "# wget https://repo.continuum.io/miniconda/Miniconda3-latest-Linux-x86_64.sh\n",
    "# chmod 771 Miniconda3-latest-Linux-x86_64.sh\n",
    "# ./Miniconda3-latest-Linux-x86_64.sh\n",
    "# source ~/.bashrc"
   ]
  },
  {
   "cell_type": "markdown",
   "metadata": {},
   "source": [
    "Then install the follwoing packages"
   ]
  },
  {
   "cell_type": "code",
   "execution_count": 469,
   "metadata": {
    "collapsed": true
   },
   "outputs": [],
   "source": [
    "# conda install r-XML\n",
    "# conda install r-rvest\n",
    "# conda install r-stringr\n",
    "# conda install r-JSON"
   ]
  },
  {
   "cell_type": "markdown",
   "metadata": {
    "collapsed": true
   },
   "source": [
    "Then we should be able to load the packages"
   ]
  },
  {
   "cell_type": "code",
   "execution_count": 470,
   "metadata": {
    "collapsed": true
   },
   "outputs": [],
   "source": [
    "library(XML)\n",
    "library(jsonlite)\n",
    "library(rvest)\n",
    "library(stringr)"
   ]
  },
  {
   "cell_type": "markdown",
   "metadata": {},
   "source": [
    "# Building a web crawler"
   ]
  },
  {
   "cell_type": "markdown",
   "metadata": {},
   "source": [
    "Read in block information in html format"
   ]
  },
  {
   "cell_type": "code",
   "execution_count": 471,
   "metadata": {
    "collapsed": true
   },
   "outputs": [],
   "source": [
    "doc <- read_html(\"https://blockchain.info/block/0000000000000000008d8e5c2cce7ac3ad991e4d8564e2e4ce98cb36a8c473d7\")"
   ]
  },
  {
   "cell_type": "code",
   "execution_count": 472,
   "metadata": {
    "collapsed": true
   },
   "outputs": [],
   "source": [
    "# htmlParse(doc)"
   ]
  },
  {
   "cell_type": "markdown",
   "metadata": {},
   "source": [
    "Get all of the transaction ID (Hash) for the most recent block\n"
   ]
  },
  {
   "cell_type": "code",
   "execution_count": 473,
   "metadata": {},
   "outputs": [],
   "source": [
    "tx <- html_nodes(doc,\".txdiv .hash-link\") %>% html_attr('href')  "
   ]
  },
  {
   "cell_type": "markdown",
   "metadata": {},
   "source": [
    "Construct the link to each transaction's information"
   ]
  },
  {
   "cell_type": "code",
   "execution_count": 474,
   "metadata": {
    "collapsed": true
   },
   "outputs": [],
   "source": [
    "tx_link  <-  paste0('https://blockchain.info',tx) %>% paste0('?show_adv=true')\n",
    "# remove '/tx/' prefix from Hash\n",
    "tx  <- str_replace(string=tx, pattern='/tx/', replacement='')"
   ]
  },
  {
   "cell_type": "code",
   "execution_count": 475,
   "metadata": {},
   "outputs": [],
   "source": [
    "# head(tx)\n",
    "# head(tx_link)"
   ]
  },
  {
   "cell_type": "code",
   "execution_count": 476,
   "metadata": {
    "collapsed": true
   },
   "outputs": [],
   "source": [
    "# I didn't need this, but may be useful later\n",
    "# Create session at the transaction URL\n",
    "# tx1 <- html_session('https://blockchain.info/tx/c656081142f3989cf659beb976de74e62854be68d7fca9cc5572713a59d7bbaf')\n",
    "# Browse to 'Show scripts & coinbase' the single transaction\n",
    "# scripts1 <- follow_link(tx1, 'Show scripts & coinbase')  %>% read_html()"
   ]
  },
  {
   "cell_type": "markdown",
   "metadata": {},
   "source": [
    "## Get information for a transaction"
   ]
  },
  {
   "cell_type": "code",
   "execution_count": 477,
   "metadata": {},
   "outputs": [],
   "source": [
    "# Choose a transaction to work with\n",
    "tx1 <- tx[1]\n",
    "tx_link1 <- tx_link[1]\n",
    "scripts <- read_html(tx_link1)\n",
    "\n",
    "# tmstmp: date time transaction was recieved as a character string\n",
    "# senderAddress: character vector of addresses bitcoin were sent from\n",
    "# senderAmount: numeric vector bitcoin amounts sent\n",
    "# receiverAddress: character vector of addresses bitcoin were sent to\n",
    "# recieverAmount: numeric vector bitcoin amounts recieved\n",
    "\n",
    "# Extract html element and store the text\n",
    "tmstmp <- html_nodes(scripts, '.col-sm-6:nth-child(1) tr:nth-child(4) td+ td') %>% html_text()\n",
    "\n",
    "# Remove unwanted strings from the text\n",
    "tmstmp <- str_replace(tmstmp,'\\\\s+','')\n",
    "tmstmp <- str_replace_all(tmstmp,'\\n','')\n",
    "\n",
    "# Extract html element and store the text\n",
    "senderAddress <- html_nodes(scripts, '.hidden-phone .tag-address') %>% html_text()\n",
    "\n",
    "# Remove unwanted strings from the text\n",
    "senderAddress <- senderAddress[senderAddress != 'Output']\n",
    "\n",
    "# If senderAddress is empty, set it to 'No Inputs (Newly Generated Coins)'\n",
    "# For some reason this was hard to extract automatically..\n",
    "if(length(senderAddress)==0) {\n",
    "    senderAddress <- 'No Inputs (Newly Generated Coins)'\n",
    "    }\n",
    "\n",
    "# Extract html element and store the text\n",
    "senderAmount <- html_nodes(scripts, '.tag+ span') %>% html_text()\n",
    "# Remove unwanted strings from the text and convert to numeric\n",
    "senderAmount <- as.numeric(str_replace(senderAmount,' BTC', ''))\n",
    "\n",
    "# Extract html element and store the text\n",
    "receiverAddress <- html_nodes(scripts, '.tx-arrow-col+ .stack-mobile a') %>% html_text()\n",
    "# Remove unwanted strings from the text\n",
    "receiverAddress <- receiverAddress[!is.na(receiverAddress) & receiverAddress != 'Spent']\n",
    "\n",
    "# Extract html element and store the text\n",
    "receiverAmount <- html_nodes(scripts, '.pull-right span') %>% html_text()\n",
    "# Remove unwanted strings from the text and convert to numeric\n",
    "receiverAmount <- as.numeric(str_replace(receiverAmount,' BTC', ''))"
   ]
  },
  {
   "cell_type": "code",
   "execution_count": 478,
   "metadata": {},
   "outputs": [
    {
     "data": {
      "text/html": [
       "<span style=white-space:pre-wrap>'2017-10-20 00:53:10                      '</span>"
      ],
      "text/latex": [
       "'2017-10-20 00:53:10                      '"
      ],
      "text/markdown": [
       "<span style=white-space:pre-wrap>'2017-10-20 00:53:10                      '</span>"
      ],
      "text/plain": [
       "[1] \"2017-10-20 00:53:10                      \""
      ]
     },
     "metadata": {},
     "output_type": "display_data"
    },
    {
     "data": {
      "text/html": [
       "'No Inputs (Newly Generated Coins)'"
      ],
      "text/latex": [
       "'No Inputs (Newly Generated Coins)'"
      ],
      "text/markdown": [
       "'No Inputs (Newly Generated Coins)'"
      ],
      "text/plain": [
       "[1] \"No Inputs (Newly Generated Coins)\""
      ]
     },
     "metadata": {},
     "output_type": "display_data"
    },
    {
     "data": {
      "text/html": [],
      "text/latex": [],
      "text/markdown": [],
      "text/plain": [
       "numeric(0)"
      ]
     },
     "metadata": {},
     "output_type": "display_data"
    },
    {
     "data": {
      "text/html": [
       "'3EhLZarJUNSfV6TWMZY1Nh5mi3FMsdHa5U'"
      ],
      "text/latex": [
       "'3EhLZarJUNSfV6TWMZY1Nh5mi3FMsdHa5U'"
      ],
      "text/markdown": [
       "'3EhLZarJUNSfV6TWMZY1Nh5mi3FMsdHa5U'"
      ],
      "text/plain": [
       "[1] \"3EhLZarJUNSfV6TWMZY1Nh5mi3FMsdHa5U\""
      ]
     },
     "metadata": {},
     "output_type": "display_data"
    },
    {
     "data": {
      "text/html": [
       "<ol class=list-inline>\n",
       "\t<li>12.9826469</li>\n",
       "\t<li>0</li>\n",
       "</ol>\n"
      ],
      "text/latex": [
       "\\begin{enumerate*}\n",
       "\\item 12.9826469\n",
       "\\item 0\n",
       "\\end{enumerate*}\n"
      ],
      "text/markdown": [
       "1. 12.9826469\n",
       "2. 0\n",
       "\n",
       "\n"
      ],
      "text/plain": [
       "[1] 12.98265  0.00000"
      ]
     },
     "metadata": {},
     "output_type": "display_data"
    }
   ],
   "source": [
    "tmstmp\n",
    "senderAddress\n",
    "senderAmount\n",
    "receiverAddress\n",
    "receiverAmount"
   ]
  },
  {
   "cell_type": "markdown",
   "metadata": {},
   "source": [
    "For each transaction we'll store a list like the following"
   ]
  },
  {
   "cell_type": "code",
   "execution_count": 479,
   "metadata": {},
   "outputs": [],
   "source": [
    "# list(tx=tx1,\n",
    "#      tx_link=tx_link1,\n",
    "#      tmstmp=tmstmp\n",
    "#      senderAddress=senderAddress, \n",
    "#      senderAmount=senderAmount,\n",
    "#      receiverAddress=receiverAddress,\n",
    "#      receiverAmount=receiverAmount)"
   ]
  },
  {
   "cell_type": "markdown",
   "metadata": {},
   "source": [
    "We can convert the list to json using toJSON from the jsonlite package"
   ]
  },
  {
   "cell_type": "code",
   "execution_count": 480,
   "metadata": {
    "collapsed": true
   },
   "outputs": [],
   "source": [
    "# toJSON(list(tx=tx1,\n",
    "#      tx_link=tx_link1,\n",
    "#      inputAddress=inputAddress, \n",
    "#      inputAmount=inputAmount,\n",
    "#      outputAddress=outputAddress,\n",
    "#      outputAmount=outputAmount))"
   ]
  },
  {
   "cell_type": "markdown",
   "metadata": {
    "collapsed": true
   },
   "source": [
    "# Putting the code in a loop"
   ]
  },
  {
   "cell_type": "markdown",
   "metadata": {},
   "source": [
    "This loop will iterate over the list of urls containing each transactions' information"
   ]
  },
  {
   "cell_type": "code",
   "execution_count": 481,
   "metadata": {},
   "outputs": [],
   "source": [
    "# tx_link"
   ]
  },
  {
   "cell_type": "markdown",
   "metadata": {
    "collapsed": true
   },
   "source": [
    "We'll use the lapply function, which is a standard way to vectorize for loops in R"
   ]
  },
  {
   "cell_type": "code",
   "execution_count": null,
   "metadata": {},
   "outputs": [],
   "source": [
    "system.time(\n",
    "block <- lapply(X=1:length(tx_link), FUN=function(i){\n",
    "    \n",
    "    cat(paste0(i,'\\n'))\n",
    "        \n",
    "    scripts <- read_html(tx_link[i])\n",
    "    \n",
    "    # tmstmp: date time transaction was recieved as a character string\n",
    "    # senderAddress: character vector of addresses bitcoin were sent from\n",
    "    # senderAmount: numeric vector bitcoin amounts sent\n",
    "    # receiverAddress: character vector of addresses bitcoin were sent to\n",
    "    # recieverAmount: numeric vector bitcoin amounts recieved\n",
    "    \n",
    "    # Extract html element and store the text\n",
    "    tmstmp <- html_nodes(scripts, '.col-sm-6:nth-child(1) tr:nth-child(4) td+ td') %>% html_text()\n",
    "\n",
    "    # Remove unwanted strings from the text\n",
    "    tmstmp <- str_replace(tmstmp,'\\\\s+','')\n",
    "    tmstmp <- str_replace_all(tmstmp,'\\n','')\n",
    "\n",
    "    # Extract html element and store the text\n",
    "    senderAddress <- html_nodes(scripts, '.hidden-phone .tag-address') %>% html_text()\n",
    "\n",
    "    # Remove unwanted strings from the text\n",
    "    senderAddress <- senderAddress[senderAddress != 'Output']\n",
    "\n",
    "    # If senderAddress is empty, set it to 'No Inputs (Newly Generated Coins)'\n",
    "    # For some reason this was hard to extract automatically..\n",
    "    if(length(senderAddress)==0) {\n",
    "        senderAddress <- 'No Inputs (Newly Generated Coins)'\n",
    "        }\n",
    "\n",
    "    # Extract html element and store the text\n",
    "    senderAmount <- html_nodes(scripts, '.tag+ span') %>% html_text()\n",
    "    # Remove unwanted strings from the text and convert to numeric\n",
    "    senderAmount <- as.numeric(str_replace(senderAmount,' BTC', ''))\n",
    "\n",
    "    # Extract html element and store the text\n",
    "    receiverAddress <- html_nodes(scripts, '.tx-arrow-col+ .stack-mobile a') %>% html_text()\n",
    "    # Remove unwanted strings from the text\n",
    "    receiverAddress <- receiverAddress[!is.na(receiverAddress) & receiverAddress != 'Spent']\n",
    "\n",
    "    # Extract html element and store the text\n",
    "    receiverAmount <- html_nodes(scripts, '.pull-right span') %>% html_text()\n",
    "    # Remove unwanted strings from the text and convert to numeric\n",
    "    receiverAmount <- as.numeric(str_replace(receiverAmount,' BTC', ''))\n",
    "    # Remove zeros\n",
    "    receiverAmount <- receiverAmount[receiverAmount!=0]\n",
    "    \n",
    "    \n",
    "    list(tx = tx[i],\n",
    "         tx_link = tx_link[i],\n",
    "         tmstmp = tmstmp,\n",
    "         senderAddress = senderAddress, \n",
    "         senderAmount = senderAmount,\n",
    "         receiverAddress = receiverAddress,\n",
    "         receiverAmount = receiverAmount)\n",
    "\n",
    "}))"
   ]
  },
  {
   "cell_type": "markdown",
   "metadata": {},
   "source": [
    "## Store the block of transactions in a table"
   ]
  },
  {
   "cell_type": "markdown",
   "metadata": {},
   "source": [
    "First look at the block's structure"
   ]
  },
  {
   "cell_type": "code",
   "execution_count": null,
   "metadata": {},
   "outputs": [],
   "source": [
    "library(tidyr)\n",
    "library(dplyr)"
   ]
  },
  {
   "cell_type": "code",
   "execution_count": null,
   "metadata": {},
   "outputs": [],
   "source": [
    "# df_nested <- data.frame(Reduce(rbind, block))"
   ]
  },
  {
   "cell_type": "code",
   "execution_count": null,
   "metadata": {
    "collapsed": true
   },
   "outputs": [],
   "source": [
    "# df <- df_nested %>% rowwise %>% do(expand.grid(., stringsAsFactors=FALSE))"
   ]
  },
  {
   "cell_type": "code",
   "execution_count": null,
   "metadata": {},
   "outputs": [],
   "source": []
  },
  {
   "cell_type": "code",
   "execution_count": null,
   "metadata": {
    "collapsed": true
   },
   "outputs": [],
   "source": []
  },
  {
   "cell_type": "code",
   "execution_count": null,
   "metadata": {
    "collapsed": true
   },
   "outputs": [],
   "source": []
  }
 ],
 "metadata": {
  "kernelspec": {
   "display_name": "R",
   "language": "R",
   "name": "ir"
  },
  "language_info": {
   "codemirror_mode": "r",
   "file_extension": ".r",
   "mimetype": "text/x-r-source",
   "name": "R",
   "pygments_lexer": "r",
   "version": "3.4.1"
  }
 },
 "nbformat": 4,
 "nbformat_minor": 2
}
